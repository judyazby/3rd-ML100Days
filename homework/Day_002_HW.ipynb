{
 "cells": [
  {
   "cell_type": "markdown",
   "metadata": {},
   "source": [
    "## [作業目標]\n",
    "了解機器學習適合應用的領域與範疇。"
   ]
  },
  {
   "cell_type": "markdown",
   "metadata": {},
   "source": [
    "## [作業重點]\n",
    "透過瞭解機器學習的運作方式，找出非常適用機器學習應用的領域及其原因"
   ]
  },
  {
   "cell_type": "markdown",
   "metadata": {},
   "source": [
    "## 作業\n",
    "請找出一個你認為機器學習可以發光發熱的領域並闡述原因? "
   ]
  },
  {
   "cell_type": "markdown",
   "metadata": {},
   "source": [
    "   我覺得機器學習可以使用在健康醫療領域，例如疾病發生的預測。\n",
    "    有些疾病不容易早期發現、早期治療，比方說肝癌、肺癌，當患者感覺不適，往往都是癌症中、後期了。撇開先天因素，這些癌症的發生，其實有跡可循。\n",
    "    現代人習慣熬夜，那我們就可以蒐集手機app的睡眠時間統計數據，預測人們罹患肝癌的潛在風險。\n",
    "    有些人長期處於空氣品質不佳的區域，那我們就可以蒐集手機app的空氣品質偵測數據，預測人們罹患肺癌的風險。\n",
    "    當然，前提是要徵詢使用者同意，允許app蒐集數據、提供數據，甚至是人為輸入罹癌的時間點和癌症分期。\n",
    "    然而，這些數據的取得需要克服隱私權政策，也仰賴後續人工操作。要累積足夠的數據增加預測準確度，又是另一個挑戰了。"
   ]
  },
  {
   "cell_type": "code",
   "execution_count": null,
   "metadata": {},
   "outputs": [],
   "source": []
  }
 ],
 "metadata": {
  "kernelspec": {
   "display_name": "Python 3",
   "language": "python",
   "name": "python3"
  },
  "language_info": {
   "codemirror_mode": {
    "name": "ipython",
    "version": 3
   },
   "file_extension": ".py",
   "mimetype": "text/x-python",
   "name": "python",
   "nbconvert_exporter": "python",
   "pygments_lexer": "ipython3",
   "version": "3.6.4"
  }
 },
 "nbformat": 4,
 "nbformat_minor": 2
}
