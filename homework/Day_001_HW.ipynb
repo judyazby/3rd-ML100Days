{
 "cells": [
  {
   "cell_type": "markdown",
   "metadata": {},
   "source": [
    "## 練習時間\n",
    "#### 請寫一個函式用來計算 Mean Square Error\n",
    "$ MSE = \\frac{1}{n}\\sum_{i=1}^{n}{(Y_i - \\hat{Y}_i)^2} $\n",
    "\n",
    "### Hint: [如何取平方](https://googoodesign.gitbooks.io/-ezpython/unit-1.html)"
   ]
  },
  {
   "cell_type": "markdown",
   "metadata": {},
   "source": [
    "# [作業目標]\n",
    "- 仿造範例的MAE函數, 自己寫一個MSE函數(參考上面公式)\n",
    "\n",
    "# [作業重點]\n",
    "- 注意程式的縮排\n",
    "- 是否能將數學公式, 轉換為 Python 的函式組合? (In[2], Out[2])"
   ]
  },
  {
   "cell_type": "code",
   "execution_count": 3,
   "metadata": {},
   "outputs": [],
   "source": [
    "# 載入基礎套件與代稱\n",
    "import numpy as np\n",
    "import matplotlib.pyplot as plt"
   ]
  },
  {
   "cell_type": "code",
   "execution_count": 8,
   "metadata": {},
   "outputs": [],
   "source": [
    "def mean_absolute_error(y, yp):\n",
    "    \"\"\"\n",
    "    計算 MAE\n",
    "    Args:\n",
    "        - y: 實際值\n",
    "        - yp: 預測值\n",
    "    Return:\n",
    "        - mae: MAE\n",
    "    \"\"\"\n",
    "    mae = MAE = sum(abs(y - yp)) / len(y)\n",
    "    return mae\n",
    "\n",
    "# 定義 mean_squared_error 這個函數, 計算並傳回 MSE\n",
    "def mean_squared_error(y, yp):\n",
    "    \"\"\"\n",
    "    Calculate Mean Square Error\n",
    "    Args: y, yp\n",
    "    Return: mse\n",
    "    \"\"\"\n",
    "    mse = MSE = sum(pow(y - yp,2)) / len(y)\n",
    "    return mse"
   ]
  },
  {
   "cell_type": "code",
   "execution_count": 5,
   "metadata": {},
   "outputs": [
    {
     "data": {
      "image/png": "[encoded data removed]",
      "text/plain": [
       "<Figure size 432x288 with 1 Axes>"
      ]
     },
     "metadata": {
      "needs_background": "light"
     },
     "output_type": "display_data"
    }
   ],
   "source": [
    "# 與範例相同, 不另外解說\n",
    "w = 3\n",
    "b = 0.5\n",
    "x_lin = np.linspace(0, 100, 101)\n",
    "y = (x_lin + np.random.randn(101) * 5) * w + b\n",
    "\n",
    "plt.plot(x_lin, y, 'b.', label = 'data points')\n",
    "plt.title(\"Assume we have data points\")\n",
    "plt.legend(loc = 2)\n",
    "plt.show()"
   ]
  },
  {
   "cell_type": "code",
   "execution_count": 6,
   "metadata": {},
   "outputs": [
    {
     "data": {
      "image/png": "[encoded data removed]",
      "text/plain": [
       "<Figure size 432x288 with 1 Axes>"
      ]
     },
     "metadata": {
      "needs_background": "light"
     },
     "output_type": "display_data"
    }
   ],
   "source": [
    "# 與範例相同, 不另外解說\n",
    "y_hat = x_lin * w + b\n",
    "plt.plot(x_lin, y, 'b.', label = 'data')\n",
    "plt.plot(x_lin, y_hat, 'r-', label = 'prediction')\n",
    "plt.title(\"Assume we have data points (And the prediction)\")\n",
    "plt.legend(loc = 2)\n",
    "plt.show()"
   ]
  },
  {
   "cell_type": "code",
   "execution_count": null,
   "metadata": {},
   "outputs": [],
   "source": [
    "# 執行 Function, 確認有沒有正常執行\n",
    "MSE = mean_squared_error(y, y_hat)\n",
    "MAE = mean_absolute_error(y, y_hat)\n",
    "print(\"The Mean squared error is %.3f\" % (MSE))\n",
    "print(\"The Mean absolute error is %.3f\" % (MAE))"
   ]
  },
  {
   "cell_type": "markdown",
   "metadata": {},
   "source": [
    "# [作業2]\n",
    "\n",
    "請上 Kaggle, 在 Competitions 或 Dataset 中找一組競賽或資料並寫下：\n",
    "\n",
    "1. 你選的這組資料為何重要\n",
    "\n",
    "2. 資料從何而來 (tips: 譬如提供者是誰、以什麼方式蒐集)\n",
    "\n",
    "3. 蒐集而來的資料型態為何\n",
    "\n",
    "4. 這組資料想解決的問題如何評估"
   ]
  },
  {
   "cell_type": "markdown",
   "metadata": {},
   "source": [
    "### Prob.3 answer\n",
    "ref: https://www.kaggle.com/lava18/google-play-store-apps\n",
    "\n",
    "### Dataset name: Google Play Store Apps\n",
    "\n",
    "1. 資料為何重要？\n",
    "    \n",
    "    根據Inspiration：\"The Play Store apps data has enormous potential to drive app-making businesses to success.\"\n",
    "    android 手機使用者，均仰賴google play store的apps，因此蒐集每個app的下載使用狀況，有助於google了解市場脈動、評估app製造商、分析使用者需求，進而擬定對應的商業策略。\n",
    "    \n",
    "    \n",
    "2. 資料從何而來？\n",
    "\n",
    "    iTunes App Store\n",
    "\n",
    "\n",
    "3. 資料型態？\n",
    "\n",
    "    csv檔案，其結構為“indexed appendix-like structure”\n",
    "\n",
    "\n",
    "4. 問題評估？\n",
    "\n",
    "    觀察檔案columns，資料想解決的問題，可能是從目前app的表現，預測未來的使用趨勢。前導問題如：\n",
    "    - 某app installs/rating 不如預期，可能跟哪些因素有關？（e.g. genre/type/price）\n",
    "    - 某公司是否穩定生產高品質app，可從哪些因素評估？（e.g. current version/installs/reviews）\n",
    "    - 某app是否有穩定商業模式可持續獲利？（e.g. price/reviews/last updated）\n"
   ]
  },
  {
   "cell_type": "markdown",
   "metadata": {},
   "source": [
    "# [作業3]\n",
    "\n",
    "想像你經營一個自由載客車隊，你希望能透過數據分析以提升業績，請你思考並描述你如何規劃整體的分析/解決方案：\n",
    "\n",
    "1. 核心問題為何 (tips：如何定義 「提升業績 & 你的假設」)\n",
    "\n",
    "2. 資料從何而來 (tips：哪些資料可能會對你想問的問題產生影響 & 資料如何蒐集)\n",
    "\n",
    "3. 蒐集而來的資料型態為何\n",
    "\n",
    "4. 你要回答的問題，其如何評估 (tips：你的假設如何驗證)"
   ]
  },
  {
   "cell_type": "markdown",
   "metadata": {},
   "source": [
    "### Prob.3 answer\n",
    "\n",
    "1. 核心問題為何？\n",
    "\n",
    "    e.g. 如何在特定時段，派遣最少車隊，達到最大獲利？\n",
    "    \n",
    "    \n",
    "2. 資料從何而來？\n",
    "\n",
    "    - 叫車app (e.g. 台灣大車隊) 的使用時間、地點、客群、使用者回應等\n",
    "    - 叫車電話  出現的時間、地點、次數等\n",
    "    - 計程車司機的跳表紀錄、導航紀錄\n",
    "\n",
    "\n",
    "3. 資料型態為何？\n",
    "\n",
    "    - app的使用者記錄資料庫\n",
    "    - 車隊的電話通聯紀錄\n",
    "    - 所有計程車計費跳錶、導航系統紀錄\n",
    "    \n",
    "    \n",
    "4. 問題如何評估？\n",
    "   \n",
    "    - 觀察app下載次數、量化評分、質性評價變化\n",
    "    - 計算特定時段的派車數、里程數、獲利金額\n",
    "    - 詢問車隊司機單日出勤時間、里程數、獲利金額"
   ]
  }
 ],
 "metadata": {
  "anaconda-cloud": {},
  "kernelspec": {
   "display_name": "Python 3",
   "language": "python",
   "name": "python3"
  },
  "language_info": {
   "codemirror_mode": {
    "name": "ipython",
    "version": 3
   },
   "file_extension": ".py",
   "mimetype": "text/x-python",
   "name": "python",
   "nbconvert_exporter": "python",
   "pygments_lexer": "ipython3",
   "version": "3.6.4"
  }
 },
 "nbformat": 4,
 "nbformat_minor": 1
}
